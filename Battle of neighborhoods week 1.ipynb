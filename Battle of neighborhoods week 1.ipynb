{
 "cells": [
  {
   "cell_type": "markdown",
   "metadata": {},
   "source": [
    "<h1 align=center><font size = 5> The Battle of the Neighborhoods - Week 1 </font></h1>"
   ]
  },
  {
   "cell_type": "markdown",
   "metadata": {},
   "source": [
    "### 1. Introduction & Business Problem"
   ]
  },
  {
   "cell_type": "markdown",
   "metadata": {},
   "source": [
    "#### Problem Background"
   ]
  },
  {
   "cell_type": "markdown",
   "metadata": {},
   "source": [
    "The City of New York, is one of the most populous city in the United States. It contains a diversity of multicultural ethnicity that provides good opportunities in several ways of business. It is the financial capital of USA, so it's an attractive city for the commerce. The city is considered as a center for banking and finance, retailing, world trade, transportation, tourism, traditional media, advertising, legal services, accountancy and other important business activities in the United States.\n",
    "\n",
    "City brings good opportunities for people, but it also very competitive about markets, one of them is food market. As it is highly developed city so cost of doing business is also one of the highest. In other words, any new business or product need to be analyzed very carefully before to launch to the market. The objectives as result of the analysis could help to make a reasonable judge about introducing a new product or establish a good understanding of a new market environment. The analysis will help to reduce the risk in the investment making the return will be reasonable.\n"
   ]
  },
  {
   "cell_type": "markdown",
   "metadata": {},
   "source": [
    "#### Problem Description"
   ]
  },
  {
   "cell_type": "markdown",
   "metadata": {},
   "source": [
    "A restaurant is a place where meals are prepared and served to customers in return for money. The New York City contains several types of excellent food related with the gastronomy of many parts of the world. Many restaurants are influenced for the immigrant history, so there are a competitive market to show the culture through the preparation of tasty dishes. Next, will be presented examples of kinds meals that there are in New York currently.\n",
    "\n",
    "Ashkenazi Jewish cuisine: Much of the cuisine usually associated with New York City stems in part from its large community of Ashkenazi Jews and their descendants. Among their famous dishes are: New York-style pastrami, pastrami on rye, brisket, corned beef, tongue, knish, New York-style bagels and lox, Bagel and cream cheese, whitefish with and without pike and others.\n",
    "\n",
    "Italian-American cuisine: Like the Askenazi-Jewish community, much of the cuisine usually associated with New York City stems in part from its large community of Italian-Americans and their descendants. Their main dishes are: Cappuccino, New York-style pizza, Spaghetti and meatballs, Cannoli, Chicken parmigiana, Sausage and peppers, New York-style Italian ice, Sicilian style pizza, pasta primavera and others.\n",
    "\n",
    "Chino-Latino cuisine: It is a cuisine associated with New York City stems, by and large, to the earliest migration of Chinese migrants to Cuba in the mid-1800s. They have dishes as: Fried rice, Fried Pork Chop, Lumpiang Shanghai, Sesame Chicken, Chicken and Broccoli, Egg Drop Soup, Oxtail stew, Cuban chicharrones de pollo, White Rice with Black Beans and Churrasco\n",
    "\n",
    "Cuban-Chino Food: Cuban and Chinese food are similar in many ways such that a huge portion of their dishes revolve around white meats such as pork and starches such as rice.\n",
    "\n",
    "As we can see, there are many kinds of meals in New York city, so it is evident that there are a competitive market. It is important to develop a financial and strategy plan to decide to open this kind of business. It necessary consider factors related with the population of the city, meal business and also topics about index of crime. These factors, help to make important decisions about the location to open a new restaurant."
   ]
  },
  {
   "cell_type": "markdown",
   "metadata": {},
   "source": [
    "#### Target Audience"
   ]
  },
  {
   "cell_type": "markdown",
   "metadata": {},
   "source": [
    "It helps to ABC company or a personal business to have an idea about the environment of restaurant in New York city. The main insight is to locate and recommend the management the correct location to open a restaurant through the help of data analysis and algorithms related with Data Science. The analysis will be include clusters about the borough of New York "
   ]
  },
  {
   "cell_type": "markdown",
   "metadata": {},
   "source": [
    "### 2. Data Description"
   ]
  },
  {
   "cell_type": "markdown",
   "metadata": {},
   "source": [
    "Neighborhood has a total of 5 boroughs and 306 neighborhoods. In order to segement the neighborhoods and explore them, we will essentially need a dataset that contains the 5 boroughs and the neighborhoods that exist in each borough as well as the the latitude and logitude coordinates of each neighborhood.\n",
    "\n",
    "This dataset exists for free on the web. The link to the dataset is the following: https://geo.nyu.edu/catalog/nyu_2451_34572"
   ]
  },
  {
   "cell_type": "markdown",
   "metadata": {},
   "source": [
    "The information related with Cuisine of New York can be easily founded through the following link: https://en.wikipedia.org/wiki/Cuisine_of_New_York_City"
   ]
  },
  {
   "cell_type": "markdown",
   "metadata": {},
   "source": [
    "Crimes and delinquency information can be extracted from the following link: https://www1.nyc.gov/site/nypd/stats/crime-statistics/borough-and-precinct-crime-stats.page"
   ]
  },
  {
   "cell_type": "markdown",
   "metadata": {},
   "source": [
    "Finally, data related with geographical information and coordinates data can be used from Foursquare API, that will be leveraged to provision venues information for each neighborhood. This information will be very useful to explore conditions of neighborhoods in New York City."
   ]
  }
 ],
 "metadata": {
  "kernelspec": {
   "display_name": "Python",
   "language": "python",
   "name": "conda-env-python-py"
  },
  "language_info": {
   "codemirror_mode": {
    "name": "ipython",
    "version": 3
   },
   "file_extension": ".py",
   "mimetype": "text/x-python",
   "name": "python",
   "nbconvert_exporter": "python",
   "pygments_lexer": "ipython3",
   "version": "3.6.7"
  }
 },
 "nbformat": 4,
 "nbformat_minor": 4
}
